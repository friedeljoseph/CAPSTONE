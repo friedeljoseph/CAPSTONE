{
 "cells": [
  {
   "cell_type": "code",
   "execution_count": 4,
   "id": "initial_id",
   "metadata": {
    "collapsed": true,
    "ExecuteTime": {
     "end_time": "2025-07-28T23:25:17.574887Z",
     "start_time": "2025-07-28T23:25:03.703622Z"
    }
   },
   "outputs": [
    {
     "name": "stdout",
     "output_type": "stream",
     "text": [
      "Classification Report:\n",
      "                             precision    recall  f1-score   support\n",
      "\n",
      "           RS41-Radiosonde       0.68      0.47      0.56        55\n",
      "                 bluetooth       0.77      0.64      0.70        42\n",
      "digital-audio-broadcasting       1.00      1.00      1.00        13\n",
      "                        fm       0.73      0.91      0.81       148\n",
      "                    z-wave       0.67      0.49      0.56        41\n",
      "\n",
      "                  accuracy                           0.74       299\n",
      "                 macro avg       0.77      0.70      0.73       299\n",
      "              weighted avg       0.73      0.74      0.72       299\n",
      "\n",
      "Confusion Matrix:\n",
      " [[ 26   3   0  26   0]\n",
      " [  7  27   0   8   0]\n",
      " [  0   0  13   0   0]\n",
      " [  3   1   0 134  10]\n",
      " [  2   4   0  15  20]]\n"
     ]
    }
   ],
   "source": [
    "import os\n",
    "import cv2\n",
    "import numpy as np\n",
    "from sklearn.model_selection import train_test_split\n",
    "from sklearn.preprocessing import LabelEncoder, StandardScaler\n",
    "from sklearn.svm import SVC\n",
    "from sklearn.metrics import classification_report, confusion_matrix\n",
    "\n",
    "# Define base directory\n",
    "base_dir = \"/Users/bilalnajar/PycharmProjects/capstone/waterfall\"\n",
    "\n",
    "img_size = 64\n",
    "\n",
    "# Define selected categories for proof of concept\n",
    "selected_categories = [\n",
    "    \"fm\",\n",
    "    \"bluetooth\",\n",
    "    \"digital-audio-broadcasting\",\n",
    "    \"z-wave\",\n",
    "    \"RS41-Radiosonde\"\n",
    "]\n",
    "\n",
    "# Load only selected categories\n",
    "images = []\n",
    "labels = []\n",
    "\n",
    "for category in selected_categories:\n",
    "    category_path = os.path.join(base_dir, category)\n",
    "    if not os.path.isdir(category_path):\n",
    "        print(f\"Skipping missing category: {category}\")\n",
    "        continue\n",
    "\n",
    "    for img_name in os.listdir(category_path):\n",
    "        try:\n",
    "            img_path = os.path.join(category_path, img_name)\n",
    "            img = cv2.imread(img_path, cv2.IMREAD_GRAYSCALE)\n",
    "            img = cv2.resize(img, (img_size, img_size))\n",
    "            images.append(img.flatten())\n",
    "            labels.append(category)\n",
    "        except Exception as e:\n",
    "            print(f\"Error loading image {img_name} from {category}: {e}\")\n",
    "            \n",
    "# Proceed with training if any images were loaded\n",
    "if images:\n",
    "    le = LabelEncoder()\n",
    "    y = le.fit_transform(labels)\n",
    "\n",
    "    X = np.array(images)\n",
    "    scaler = StandardScaler()\n",
    "    X_scaled = scaler.fit_transform(X)\n",
    "\n",
    "    X_train, X_test, y_train, y_test = train_test_split(\n",
    "        X_scaled, y, test_size=0.2, stratify=y, random_state=27\n",
    "    )\n",
    "\n",
    "    # Train SVM\n",
    "    svm_model = SVC(kernel='rbf', C=1.0, gamma='scale')\n",
    "    svm_model.fit(X_train, y_train)\n",
    "\n",
    "    # Evaluate\n",
    "    y_pred = svm_model.predict(X_test)\n",
    "    report = classification_report(y_test, y_pred, target_names=le.classes_)\n",
    "    conf_matrix = confusion_matrix(y_test, y_pred)\n",
    "\n",
    "    print(\"Classification Report:\\n\", report)\n",
    "    print(\"Confusion Matrix:\\n\", conf_matrix)\n",
    "\n",
    "else:\n",
    "    print(\"Image loading failed or no images found.\")"
   ]
  },
  {
   "cell_type": "markdown",
   "source": [
    "| Class                      | Precision | Recall | F1   | Notes                                      |\n",
    "|---------------------------|-----------|--------|------|--------------------------------------------|\n",
    "| RS41-Radiosonde           | 0.68      | 0.47   | 0.56 | Misclassified heavily as fm                |\n",
    "| bluetooth                 | 0.77      | 0.64   | 0.70 | Some overlap with fm, but good overall     |\n",
    "| digital-audio-broadcasting| 1.00      | 1.00   | 1.00 | Perfect separation — very distinctive      |\n",
    "| fm                        | 0.73      | 0.91   | 0.81 | Strong performance — well represented      |\n",
    "| z-wave                    | 0.67      | 0.49   | 0.56 | Often confused with fm                     |"
   ],
   "metadata": {
    "collapsed": false
   },
   "id": "a7b344bd297eee7c"
  },
  {
   "cell_type": "code",
   "execution_count": null,
   "outputs": [],
   "source": [],
   "metadata": {
    "collapsed": false
   },
   "id": "fc18d5c0ca04f6dc"
  }
 ],
 "metadata": {
  "kernelspec": {
   "display_name": "Python 3",
   "language": "python",
   "name": "python3"
  },
  "language_info": {
   "codemirror_mode": {
    "name": "ipython",
    "version": 2
   },
   "file_extension": ".py",
   "mimetype": "text/x-python",
   "name": "python",
   "nbconvert_exporter": "python",
   "pygments_lexer": "ipython2",
   "version": "2.7.6"
  }
 },
 "nbformat": 4,
 "nbformat_minor": 5
}
